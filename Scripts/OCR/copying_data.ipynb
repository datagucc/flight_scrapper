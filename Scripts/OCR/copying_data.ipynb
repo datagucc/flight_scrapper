{
 "cells": [
  {
   "cell_type": "code",
   "execution_count": null,
   "id": "23a6a498",
   "metadata": {},
   "outputs": [
    {
     "name": "stdout",
     "output_type": "stream",
     "text": [
      "/Users/focus_profond/GIT_repo/flight_price_tracker/Data/raw/BigTable\n"
     ]
    }
   ],
   "source": [
    "#Import libraries\n",
    "import sys\n",
    "import os\n",
    "import time\n",
    "#from deltalake import write_deltalake, DeltaTable\n",
    "#from deltalake.table import TableOptimizer\n",
    "#from deltalake.exceptions import TableNotFoundError\n",
    "\n",
    "\n",
    "# Add the path to the modules directory\n",
    "sys.path.append('/Users/focus_profond/GIT_repo/flight_price_tracker')\n",
    "#Importing personal modules\n",
    "#from DF_functions import *\n",
    "from Modules.OCR_google_flight import *\n",
    "from Modules.metadata_functions import *\n",
    "\n",
    "name_folder = '/Users/focus_profond/GIT_repo/flight_price_tracker/Data/Bronze/BigTable'\n",
    "df = DeltaTable(name_folder).to_pandas()\n",
    "storing_data(df,\"/Data/raw/BigTable\")"
   ]
  }
 ],
 "metadata": {
  "kernelspec": {
   "display_name": "flight_env",
   "language": "python",
   "name": "python3"
  },
  "language_info": {
   "codemirror_mode": {
    "name": "ipython",
    "version": 3
   },
   "file_extension": ".py",
   "mimetype": "text/x-python",
   "name": "python",
   "nbconvert_exporter": "python",
   "pygments_lexer": "ipython3",
   "version": "3.12.7"
  }
 },
 "nbformat": 4,
 "nbformat_minor": 5
}
