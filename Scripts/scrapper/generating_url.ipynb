{
 "cells": [
  {
   "cell_type": "markdown",
   "id": "bd433755",
   "metadata": {},
   "source": [
    "URL WORKING : https://www.google.com/travel/flights?hl=en&q=Flights%20to%20{GRU}%20from%20{BRU}%20on%20{2025-10-30}%20oneway\n",
    "URL WORKING https://www.google.com/travel/flights?hl=en&q=Flights%20to%20{GRU}%20from%20{BRU}%20on%20{2025-10-30}%20oneway&curr=EUR\n",
    "https://www.google.com/travel/flights?hl=en&q=Flights%20to%20{DESTI}%20from%20{ORI}%20on%20{YYYY-MM-DD}%20oneway&curr=CUR\n",
    "\n",
    "--> je l'ai eu via https://github.com/celebi-pkg/flight-analysis/blob/main/src/google_flight_analysis/scrape.py\n",
    "\n",
    "Il faut remplacer  DESTI ; ORI ; YYYY-MM-DD ; CUR\n",
    "\n"
   ]
  },
  {
   "cell_type": "markdown",
   "id": "531c59ed",
   "metadata": {
    "vscode": {
     "languageId": "plaintext"
    }
   },
   "source": [
    "def create_url()"
   ]
  },
  {
   "cell_type": "code",
   "execution_count": 12,
   "id": "03e46e52",
   "metadata": {},
   "outputs": [
    {
     "name": "stdout",
     "output_type": "stream",
     "text": [
      "Collecting airportsdata\n",
      "  Downloading airportsdata-20250622-py3-none-any.whl.metadata (9.1 kB)\n",
      "Downloading airportsdata-20250622-py3-none-any.whl (912 kB)\n",
      "\u001b[2K   \u001b[90m━━━━━━━━━━━━━━━━━━━━━━━━━━━━━━━━━━━━━━━━\u001b[0m \u001b[32m912.7/912.7 kB\u001b[0m \u001b[31m24.4 MB/s\u001b[0m eta \u001b[36m0:00:00\u001b[0m\n",
      "\u001b[?25hInstalling collected packages: airportsdata\n",
      "Successfully installed airportsdata-20250622\n",
      "Note: you may need to restart the kernel to use updated packages.\n"
     ]
    }
   ],
   "source": [
    "%pip install airportsdata"
   ]
  },
  {
   "cell_type": "code",
   "execution_count": 21,
   "id": "a183959a",
   "metadata": {},
   "outputs": [
    {
     "name": "stdout",
     "output_type": "stream",
     "text": [
      "{'icao': 'EBBR', 'iata': 'BRU', 'name': 'Brussels Airport', 'city': 'Brussels', 'subd': 'Flanders', 'country': 'BE', 'elevation': 184.0, 'lat': 50.9014, 'lon': 4.48444, 'tz': 'Europe/Brussels', 'lid': ''}\n",
      "{'BRU': {'icao': 'EBBR', 'iata': 'BRU', 'name': 'Brussels Airport', 'city': 'Brussels', 'subd': 'Flanders', 'country': 'BE', 'elevation': 184.0, 'lat': 50.9014, 'lon': 4.48444, 'tz': 'Europe/Brussels', 'lid': ''}, 'CRL': {'icao': 'EBCI', 'iata': 'CRL', 'name': 'Brussels South Charleroi Airport', 'city': 'Brussels', 'subd': 'Wallonia', 'country': 'BE', 'elevation': 614.0, 'lat': 50.4592, 'lon': 4.45382, 'tz': 'Europe/Brussels', 'lid': ''}}\n"
     ]
    }
   ],
   "source": [
    "from airportsdata import load\n",
    "airports= load('IATA')\n",
    "ville ='Brussels'\n",
    "resultats = airports.get('BRU')\n",
    "resultats = {code: info for code, info in airports.items() if info['city'].lower() == ville.lower()}\n",
    "print(resultats['BRU'])\n",
    "print(resultats)"
   ]
  },
  {
   "cell_type": "code",
   "execution_count": null,
   "id": "3eb3afc4",
   "metadata": {},
   "outputs": [
    {
     "name": "stdout",
     "output_type": "stream",
     "text": [
      "<class 'pandas.core.frame.DataFrame'>\n",
      "Index: 0 entries\n",
      "Data columns (total 6 columns):\n",
      " #   Column        Non-Null Count  Dtype \n",
      "---  ------        --------------  ----- \n",
      " 0   IATA          0 non-null      object\n",
      " 1   ICAO          0 non-null      object\n",
      " 2   Airport name  0 non-null      object\n",
      " 3   Country       0 non-null      object\n",
      " 4   City          0 non-null      object\n",
      " 5   Information   0 non-null      object\n",
      "dtypes: object(6)\n",
      "memory usage: 0.0+ bytes\n"
     ]
    }
   ],
   "source": [
    "import csv\n",
    "import pandas as pd\n",
    "\n",
    "csv_path = '/Users/focus_profond/GIT_repo/flight_price_tracker/Config/IATA_code.csv'\n",
    "df = pd.read_csv(csv_path)\n",
    "df.head()\n",
    "result = df[(df['City'] == 'Brussels') & (df['Country'] == 'Belgium')]\n",
    "result.info()\n",
    "\n",
    "def get_IATA_CODE(city, country= None):\n",
    "    \"\"\"\n",
    "    Get the IATA code for a given city and country.\n",
    "    \n",
    "    Parameters:\n",
    "    - city (str): The name of the city.\n",
    "    - country (str, optional): The name of the country. Defaults to None.\n",
    "    \n",
    "    Returns:\n",
    "    - str: The IATA code if found, otherwise None.\n",
    "    \"\"\"\n",
    "    result = df[(df['City'] == city)]# & (df['Country'] == country)]\n",
    "    if result.empty:\n",
    "        result = df[df['Airport name'].str.contains('Brussels', na=False)]\n",
    "\n",
    "    if country is not None:\n",
    "        result = df[(df['City'] == city) & (df['Country'] == country)]\n",
    "        if result.empty:\n",
    "            result = df[(df['City'] in city) & (df['Country'] == country)]\n",
    "    else:\n",
    "        result = df[df['City'] == city]\n",
    "    \n",
    "    if not result.empty:\n",
    "        return result.iloc[0]['IATA']\n",
    "    return None\n",
    "iata = get_IATA_CODE('Brussels', 'Belgium')\n",
    "#print(iata)\n",
    "\n",
    "#--> pas super utile car Google Flights prend directmeent en compte les villes, pas besoin de passer par les IATA."
   ]
  },
  {
   "cell_type": "code",
   "execution_count": 6,
   "id": "f2bfd504",
   "metadata": {},
   "outputs": [
    {
     "name": "stdout",
     "output_type": "stream",
     "text": [
      "https://www.google.com/travel/flights?hl=en&q=Flights%20to%20CDG%20from%20BRU%20oneway&curr=EUR\n",
      "https://www.google.com/travel/flights?hl=en&q=Flights%20to%20CDG%20from%20BRU%20on%202026-10-03%20oneway&curr=EUR\n"
     ]
    },
    {
     "data": {
      "text/plain": [
       "'https://www.google.com/travel/flights?hl=en&q=Flights%20to%20CDG%20from%20BRU%20on%202026-10-03%20oneway&curr=EUR'"
      ]
     },
     "execution_count": 6,
     "metadata": {},
     "output_type": "execute_result"
    }
   ],
   "source": [
    "def create_url(desti,ori, flight_date=None, currency='EUR'):\n",
    "    \"\"\"\n",
    "    Create a Google Flights URL for a one-way flight search.\n",
    "    \n",
    "    Parameters:\n",
    "    - desti: Destination airport code (e.g., 'GRU').\n",
    "    - ori: Origin airport code (e.g., 'BRU').\n",
    "    - flight_date: Date of the flight in 'YYYY-MM-DD' format (optional).\n",
    "    - currency: Currency code (e.g., 'EUR') (optional).\n",
    "    \n",
    "    Returns:\n",
    "    - str: Formatted Google Flights URL.\n",
    "    \"\"\"\n",
    "    if flight_date:\n",
    "        base_url = f\"https://www.google.com/travel/flights?hl=en&q=Flights%20to%20{desti}%20from%20{ori}%20on%20{flight_date}%20oneway&curr={currency}\"\n",
    "    else:\n",
    "        base_url = f\"https://www.google.com/travel/flights?hl=en&q=Flights%20to%20{desti}%20from%20{ori}%20oneway&curr={currency}\"\n",
    "    print(base_url)\n",
    "    return base_url.format(desti=desti, ori=ori, flight_date=flight_date, currency=currency)\n",
    "\n",
    "create_url('CDG','BRU')\n",
    "create_url('CDG','BRU','2026-10-03')"
   ]
  },
  {
   "cell_type": "code",
   "execution_count": null,
   "id": "7ec83a21",
   "metadata": {},
   "outputs": [],
   "source": [
    "def create_list_url(ori, desti, country):\n",
    "\n",
    "\n",
    "    create_url(desti, ori)"
   ]
  }
 ],
 "metadata": {
  "kernelspec": {
   "display_name": "flight_env",
   "language": "python",
   "name": "python3"
  },
  "language_info": {
   "codemirror_mode": {
    "name": "ipython",
    "version": 3
   },
   "file_extension": ".py",
   "mimetype": "text/x-python",
   "name": "python",
   "nbconvert_exporter": "python",
   "pygments_lexer": "ipython3",
   "version": "3.12.7"
  }
 },
 "nbformat": 4,
 "nbformat_minor": 5
}
